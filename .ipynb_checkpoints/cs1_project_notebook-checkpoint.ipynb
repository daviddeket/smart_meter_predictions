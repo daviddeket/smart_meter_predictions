{
 "cells": [
  {
   "cell_type": "code",
   "execution_count": 40,
   "id": "0dad1539",
   "metadata": {},
   "outputs": [],
   "source": [
    "# https://stackoverflow.com/questions/28170623/how-to-read-hdf5-files-in-python\n",
    "\n",
    "# Reading the file\n",
    "import h5py\n",
    "\n",
    "file_name = \"redd.h5\"\n",
    "mode = \"r\"\n",
    "\n",
    "f = h5py.File(file_name, mode)"
   ]
  },
  {
   "cell_type": "code",
   "execution_count": 42,
   "id": "daef3ab4",
   "metadata": {},
   "outputs": [
    {
     "name": "stdout",
     "output_type": "stream",
     "text": [
      "building1\n",
      "<class 'h5py._hl.group.Group'>\n",
      "building2\n",
      "<class 'h5py._hl.group.Group'>\n",
      "building3\n",
      "<class 'h5py._hl.group.Group'>\n",
      "building4\n",
      "<class 'h5py._hl.group.Group'>\n",
      "building5\n",
      "<class 'h5py._hl.group.Group'>\n",
      "building6\n",
      "<class 'h5py._hl.group.Group'>\n"
     ]
    }
   ],
   "source": [
    "# Studying the structure of the file by printing what HDF5 groups are present\n",
    "\n",
    "for key in f.keys():\n",
    "    print(key) #Names of the root level object names in HDF5 file - can be groups or datasets.\n",
    "    print(type(f[key])) # get the object type: usually group or dataset"
   ]
  },
  {
   "cell_type": "code",
   "execution_count": null,
   "id": "67931eb9",
   "metadata": {},
   "outputs": [],
   "source": []
  },
  {
   "cell_type": "code",
   "execution_count": 43,
   "id": "a8c6f0d5",
   "metadata": {},
   "outputs": [
    {
     "name": "stdout",
     "output_type": "stream",
     "text": [
      "elec\n"
     ]
    },
    {
     "ename": "NameError",
     "evalue": "name 'some_key_inside_the_group' is not defined",
     "output_type": "error",
     "traceback": [
      "\u001b[1;31m---------------------------------------------------------------------------\u001b[0m",
      "\u001b[1;31mNameError\u001b[0m                                 Traceback (most recent call last)",
      "Cell \u001b[1;32mIn[43], line 11\u001b[0m\n\u001b[0;32m      7\u001b[0m     \u001b[38;5;28mprint\u001b[39m(key)\n\u001b[0;32m      9\u001b[0m \u001b[38;5;66;03m# This assumes group[some_key_inside_the_group] is a dataset, \u001b[39;00m\n\u001b[0;32m     10\u001b[0m \u001b[38;5;66;03m# and returns a np.array:\u001b[39;00m\n\u001b[1;32m---> 11\u001b[0m data \u001b[38;5;241m=\u001b[39m group[\u001b[43msome_key_inside_the_group\u001b[49m][()]\n\u001b[0;32m     12\u001b[0m \u001b[38;5;66;03m#Do whatever you want with data\u001b[39;00m\n\u001b[0;32m     13\u001b[0m \n\u001b[0;32m     14\u001b[0m \u001b[38;5;66;03m#After you are done\u001b[39;00m\n\u001b[0;32m     15\u001b[0m f\u001b[38;5;241m.\u001b[39mclose()\n",
      "\u001b[1;31mNameError\u001b[0m: name 'some_key_inside_the_group' is not defined"
     ]
    }
   ],
   "source": [
    "# Extracting the data\n",
    "#Get the HDF5 group; key needs to be a group name from above\n",
    "group = f[key]\n",
    "\n",
    "#Checkout what keys are inside that group.\n",
    "for key in group.keys():\n",
    "    print(key)\n",
    "\n",
    "# This assumes group[some_key_inside_the_group] is a dataset, \n",
    "# and returns a np.array:\n",
    "data = group[some_key_inside_the_group][()]\n",
    "#Do whatever you want with data\n",
    "\n",
    "#After you are done\n",
    "f.close()"
   ]
  },
  {
   "cell_type": "code",
   "execution_count": 65,
   "id": "62191782",
   "metadata": {},
   "outputs": [
    {
     "ename": "ValueError",
     "evalue": "Not a location (invalid object ID)",
     "output_type": "error",
     "traceback": [
      "\u001b[1;31m---------------------------------------------------------------------------\u001b[0m",
      "\u001b[1;31mValueError\u001b[0m                                Traceback (most recent call last)",
      "Cell \u001b[1;32mIn[65], line 1\u001b[0m\n\u001b[1;32m----> 1\u001b[0m \u001b[43mf\u001b[49m\u001b[43m[\u001b[49m\u001b[38;5;124;43m\"\u001b[39;49m\u001b[38;5;124;43mbuilding1\u001b[39;49m\u001b[38;5;124;43m\"\u001b[39;49m\u001b[43m]\u001b[49m[\u001b[38;5;124m\"\u001b[39m\u001b[38;5;124melec\u001b[39m\u001b[38;5;124m\"\u001b[39m]\n",
      "File \u001b[1;32mh5py\\_objects.pyx:54\u001b[0m, in \u001b[0;36mh5py._objects.with_phil.wrapper\u001b[1;34m()\u001b[0m\n",
      "File \u001b[1;32mh5py\\_objects.pyx:55\u001b[0m, in \u001b[0;36mh5py._objects.with_phil.wrapper\u001b[1;34m()\u001b[0m\n",
      "File \u001b[1;32m~\\.conda\\envs\\case-study\\lib\\site-packages\\h5py\\_hl\\group.py:264\u001b[0m, in \u001b[0;36mGroup.__getitem__\u001b[1;34m(self, name)\u001b[0m\n\u001b[0;32m    262\u001b[0m         \u001b[38;5;28;01mraise\u001b[39;00m \u001b[38;5;167;01mValueError\u001b[39;00m(\u001b[38;5;124m\"\u001b[39m\u001b[38;5;124mInvalid HDF5 object reference\u001b[39m\u001b[38;5;124m\"\u001b[39m)\n\u001b[0;32m    263\u001b[0m \u001b[38;5;28;01melse\u001b[39;00m:\n\u001b[1;32m--> 264\u001b[0m     oid \u001b[38;5;241m=\u001b[39m \u001b[43mh5o\u001b[49m\u001b[38;5;241;43m.\u001b[39;49m\u001b[43mopen\u001b[49m\u001b[43m(\u001b[49m\u001b[38;5;28;43mself\u001b[39;49m\u001b[38;5;241;43m.\u001b[39;49m\u001b[43mid\u001b[49m\u001b[43m,\u001b[49m\u001b[43m \u001b[49m\u001b[38;5;28;43mself\u001b[39;49m\u001b[38;5;241;43m.\u001b[39;49m\u001b[43m_e\u001b[49m\u001b[43m(\u001b[49m\u001b[43mname\u001b[49m\u001b[43m)\u001b[49m\u001b[43m,\u001b[49m\u001b[43m \u001b[49m\u001b[43mlapl\u001b[49m\u001b[38;5;241;43m=\u001b[39;49m\u001b[38;5;28;43mself\u001b[39;49m\u001b[38;5;241;43m.\u001b[39;49m\u001b[43m_lapl\u001b[49m\u001b[43m)\u001b[49m\n\u001b[0;32m    266\u001b[0m otype \u001b[38;5;241m=\u001b[39m h5i\u001b[38;5;241m.\u001b[39mget_type(oid)\n\u001b[0;32m    267\u001b[0m \u001b[38;5;28;01mif\u001b[39;00m otype \u001b[38;5;241m==\u001b[39m h5i\u001b[38;5;241m.\u001b[39mGROUP:\n",
      "File \u001b[1;32mh5py\\_objects.pyx:54\u001b[0m, in \u001b[0;36mh5py._objects.with_phil.wrapper\u001b[1;34m()\u001b[0m\n",
      "File \u001b[1;32mh5py\\_objects.pyx:55\u001b[0m, in \u001b[0;36mh5py._objects.with_phil.wrapper\u001b[1;34m()\u001b[0m\n",
      "File \u001b[1;32mh5py\\h5o.pyx:190\u001b[0m, in \u001b[0;36mh5py.h5o.open\u001b[1;34m()\u001b[0m\n",
      "\u001b[1;31mValueError\u001b[0m: Not a location (invalid object ID)"
     ]
    }
   ],
   "source": [
    "f[\"building1\"][\"elec\"]"
   ]
  },
  {
   "cell_type": "code",
   "execution_count": 88,
   "id": "fe6de77d",
   "metadata": {},
   "outputs": [],
   "source": [
    "file_name = \"ukdale2.h5\"\n",
    "from nilmtk import DataSet\n",
    "\n",
    "ukdale = DataSet(file_name)\n",
    "#redd.set_window()"
   ]
  },
  {
   "cell_type": "code",
   "execution_count": 134,
   "id": "ed945aeb",
   "metadata": {},
   "outputs": [
    {
     "data": {
      "text/plain": [
       "[['bouncy castle pump',\n",
       "  'audio system',\n",
       "  'radio',\n",
       "  'wireless phone charger',\n",
       "  'boiler',\n",
       "  'HTPC',\n",
       "  'toaster',\n",
       "  'kitchen aid',\n",
       "  'mobile phone charger',\n",
       "  'USB hub',\n",
       "  'broadband router',\n",
       "  'hair dryer',\n",
       "  'coffee maker',\n",
       "  'light',\n",
       "  'television',\n",
       "  'hair straighteners',\n",
       "  'light',\n",
       "  'light',\n",
       "  'laptop computer',\n",
       "  'fan',\n",
       "  'light',\n",
       "  'security alarm',\n",
       "  'light',\n",
       "  'washer dryer',\n",
       "  'kettle',\n",
       "  'light',\n",
       "  'baby monitor',\n",
       "  'radio',\n",
       "  'external hard disk',\n",
       "  'computer monitor',\n",
       "  'dish washer',\n",
       "  'audio amplifier',\n",
       "  'mobile phone charger',\n",
       "  'drill',\n",
       "  'tablet computer charger',\n",
       "  'light',\n",
       "  'breadmaker',\n",
       "  'soldering iron',\n",
       "  'light',\n",
       "  'laptop computer',\n",
       "  'food processor',\n",
       "  'light',\n",
       "  'active subwoofer',\n",
       "  'light',\n",
       "  'charger',\n",
       "  'light',\n",
       "  'fan',\n",
       "  'printer',\n",
       "  'computer',\n",
       "  'clothes iron',\n",
       "  'washer dryer',\n",
       "  'microwave',\n",
       "  'radio',\n",
       "  'oven',\n",
       "  'immersion heater',\n",
       "  'water pump',\n",
       "  'toasted sandwich maker',\n",
       "  'audio system',\n",
       "  'solar thermal pumping station',\n",
       "  'baby monitor',\n",
       "  'vacuum cleaner',\n",
       "  'desktop computer',\n",
       "  'light',\n",
       "  'light',\n",
       "  'food processor',\n",
       "  'fridge freezer',\n",
       "  'broadband router',\n",
       "  'laptop computer',\n",
       "  'light',\n",
       "  'light',\n",
       "  'light',\n",
       "  'ethernet switch'],\n",
       " ['bouncy castle pump',\n",
       "  'audio system',\n",
       "  'radio',\n",
       "  'wireless phone charger',\n",
       "  'boiler',\n",
       "  'HTPC',\n",
       "  'toaster',\n",
       "  'kitchen aid',\n",
       "  'mobile phone charger',\n",
       "  'USB hub',\n",
       "  'broadband router',\n",
       "  'hair dryer',\n",
       "  'coffee maker',\n",
       "  'light',\n",
       "  'television',\n",
       "  'hair straighteners',\n",
       "  'light',\n",
       "  'light'],\n",
       " ['bouncy castle pump', 'audio system', 'radio', 'wireless phone charger'],\n",
       " ['bouncy castle pump',\n",
       "  'audio system',\n",
       "  'radio',\n",
       "  'wireless phone charger',\n",
       "  'boiler',\n",
       "  'HTPC',\n",
       "  'toaster',\n",
       "  'kitchen aid',\n",
       "  'mobile phone charger',\n",
       "  'USB hub',\n",
       "  'broadband router'],\n",
       " ['bouncy castle pump',\n",
       "  'audio system',\n",
       "  'radio',\n",
       "  'wireless phone charger',\n",
       "  'boiler',\n",
       "  'HTPC',\n",
       "  'toaster',\n",
       "  'kitchen aid',\n",
       "  'mobile phone charger',\n",
       "  'USB hub',\n",
       "  'broadband router',\n",
       "  'hair dryer',\n",
       "  'coffee maker',\n",
       "  'light',\n",
       "  'television',\n",
       "  'hair straighteners',\n",
       "  'light',\n",
       "  'light',\n",
       "  'laptop computer',\n",
       "  'fan',\n",
       "  'light',\n",
       "  'security alarm',\n",
       "  'light',\n",
       "  'washer dryer']]"
      ]
     },
     "execution_count": 134,
     "metadata": {},
     "output_type": "execute_result"
    }
   ],
   "source": [
    "arr = []\n",
    "\n",
    "for j in range(len(ukdale.buildings)):\n",
    "    arr2 = []\n",
    "    for i in range(len(ukdale.buildings[j+1].elec.appliances)):\n",
    "        arr2.append(ukdale.buildings[1].elec.appliances[i].type[\"type\"])\n",
    "    arr.append(arr2)\n",
    "len(arr)\n",
    "arr"
   ]
  },
  {
   "cell_type": "code",
   "execution_count": 140,
   "id": "62e21d8f",
   "metadata": {},
   "outputs": [
    {
     "data": {
      "text/plain": [
       "{'HTPC',\n",
       " 'USB hub',\n",
       " 'audio system',\n",
       " 'boiler',\n",
       " 'bouncy castle pump',\n",
       " 'broadband router',\n",
       " 'coffee maker',\n",
       " 'hair dryer',\n",
       " 'hair straighteners',\n",
       " 'kitchen aid',\n",
       " 'light',\n",
       " 'mobile phone charger',\n",
       " 'radio',\n",
       " 'television',\n",
       " 'toaster',\n",
       " 'wireless phone charger'}"
      ]
     },
     "execution_count": 140,
     "metadata": {},
     "output_type": "execute_result"
    }
   ],
   "source": [
    "# buildings: 1, 2, 5 with common applicances\n",
    "common_elements = set(arr[0]).intersection(arr[1], arr[4])\n",
    "common_elements"
   ]
  },
  {
   "cell_type": "code",
   "execution_count": null,
   "id": "18bcf301",
   "metadata": {},
   "outputs": [],
   "source": []
  },
  {
   "cell_type": "code",
   "execution_count": 105,
   "id": "e42703eb",
   "metadata": {},
   "outputs": [
    {
     "name": "stdout",
     "output_type": "stream",
     "text": [
      "WARNING: search terms match 1 appliances. Instance 0 was selected\n"
     ]
    },
    {
     "data": {
      "text/plain": [
       "pandas.core.frame.DataFrame"
      ]
     },
     "execution_count": 105,
     "metadata": {},
     "output_type": "execute_result"
    }
   ],
   "source": [
    "df =next(ukdale.buildings[1].elec[\"fridge\"].load(sample_period=10))\n",
    "type(df)"
   ]
  },
  {
   "cell_type": "code",
   "execution_count": null,
   "id": "880a4800",
   "metadata": {},
   "outputs": [],
   "source": [
    "df[\"type\"]"
   ]
  },
  {
   "cell_type": "code",
   "execution_count": 106,
   "id": "d11f0616",
   "metadata": {},
   "outputs": [
    {
     "data": {
      "text/plain": [
       "2.187716882313543"
      ]
     },
     "execution_count": 106,
     "metadata": {},
     "output_type": "execute_result"
    }
   ],
   "source": [
    "df.isna().sum().sum()/len(df)*100"
   ]
  },
  {
   "cell_type": "code",
   "execution_count": null,
   "id": "df2a72dd",
   "metadata": {},
   "outputs": [],
   "source": [
    "df =next(ukdale.buildings[1].elec.mains().load(sample_period=10))\n",
    "df"
   ]
  },
  {
   "cell_type": "code",
   "execution_count": 61,
   "id": "f6df7bea",
   "metadata": {},
   "outputs": [
    {
     "ename": "ValueError",
     "evalue": "The file 'redd.h5' is already opened, but in read-only mode.  Please close it before reopening in append mode.",
     "output_type": "error",
     "traceback": [
      "\u001b[1;31m---------------------------------------------------------------------------\u001b[0m",
      "\u001b[1;31mValueError\u001b[0m                                Traceback (most recent call last)",
      "Cell \u001b[1;32mIn[61], line 6\u001b[0m\n\u001b[0;32m      3\u001b[0m \u001b[38;5;28;01mfrom\u001b[39;00m \u001b[38;5;21;01mpprint\u001b[39;00m \u001b[38;5;28;01mimport\u001b[39;00m pprint\n\u001b[0;32m      4\u001b[0m \u001b[38;5;28;01mfrom\u001b[39;00m \u001b[38;5;21;01mpandas\u001b[39;00m \u001b[38;5;28;01mimport\u001b[39;00m HDFStore\n\u001b[1;32m----> 6\u001b[0m \u001b[38;5;28;01mwith\u001b[39;00m \u001b[43mHDFStore\u001b[49m\u001b[43m(\u001b[49m\u001b[38;5;124;43m'\u001b[39;49m\u001b[38;5;124;43mredd.h5\u001b[39;49m\u001b[38;5;124;43m'\u001b[39;49m\u001b[43m)\u001b[49m \u001b[38;5;28;01mas\u001b[39;00m data_store:\n\u001b[0;32m      7\u001b[0m     pprint(data_store\u001b[38;5;241m.\u001b[39mkeys())\n",
      "File \u001b[1;32m~\\.conda\\envs\\case-study\\lib\\site-packages\\pandas\\io\\pytables.py:505\u001b[0m, in \u001b[0;36mHDFStore.__init__\u001b[1;34m(self, path, mode, complevel, complib, fletcher32, **kwargs)\u001b[0m\n\u001b[0;32m    503\u001b[0m \u001b[38;5;28mself\u001b[39m\u001b[38;5;241m.\u001b[39m_fletcher32 \u001b[38;5;241m=\u001b[39m fletcher32\n\u001b[0;32m    504\u001b[0m \u001b[38;5;28mself\u001b[39m\u001b[38;5;241m.\u001b[39m_filters \u001b[38;5;241m=\u001b[39m \u001b[38;5;28;01mNone\u001b[39;00m\n\u001b[1;32m--> 505\u001b[0m \u001b[38;5;28;43mself\u001b[39;49m\u001b[38;5;241;43m.\u001b[39;49m\u001b[43mopen\u001b[49m\u001b[43m(\u001b[49m\u001b[43mmode\u001b[49m\u001b[38;5;241;43m=\u001b[39;49m\u001b[43mmode\u001b[49m\u001b[43m,\u001b[49m\u001b[43m \u001b[49m\u001b[38;5;241;43m*\u001b[39;49m\u001b[38;5;241;43m*\u001b[39;49m\u001b[43mkwargs\u001b[49m\u001b[43m)\u001b[49m\n",
      "File \u001b[1;32m~\\.conda\\envs\\case-study\\lib\\site-packages\\pandas\\io\\pytables.py:654\u001b[0m, in \u001b[0;36mHDFStore.open\u001b[1;34m(self, mode, **kwargs)\u001b[0m\n\u001b[0;32m    639\u001b[0m     \u001b[38;5;28;01mif\u001b[39;00m \u001b[38;5;124m\"\u001b[39m\u001b[38;5;124mFILE_OPEN_POLICY\u001b[39m\u001b[38;5;124m\"\u001b[39m \u001b[38;5;129;01min\u001b[39;00m \u001b[38;5;28mstr\u001b[39m(e):\n\u001b[0;32m    640\u001b[0m         e \u001b[38;5;241m=\u001b[39m \u001b[38;5;167;01mValueError\u001b[39;00m(\n\u001b[0;32m    641\u001b[0m             \u001b[38;5;124m\"\u001b[39m\u001b[38;5;124mPyTables [\u001b[39m\u001b[38;5;132;01m{version}\u001b[39;00m\u001b[38;5;124m] no longer supports opening multiple \u001b[39m\u001b[38;5;124m\"\u001b[39m\n\u001b[0;32m    642\u001b[0m             \u001b[38;5;124m\"\u001b[39m\u001b[38;5;124mfiles\u001b[39m\u001b[38;5;130;01m\\n\u001b[39;00m\u001b[38;5;124m\"\u001b[39m\n\u001b[1;32m   (...)\u001b[0m\n\u001b[0;32m    651\u001b[0m             )\n\u001b[0;32m    652\u001b[0m         )\n\u001b[1;32m--> 654\u001b[0m     \u001b[38;5;28;01mraise\u001b[39;00m e\n\u001b[0;32m    656\u001b[0m \u001b[38;5;28;01mexcept\u001b[39;00m (\u001b[38;5;167;01mException\u001b[39;00m) \u001b[38;5;28;01mas\u001b[39;00m e:\n\u001b[0;32m    657\u001b[0m \n\u001b[0;32m    658\u001b[0m     \u001b[38;5;66;03m# trying to read from a non-existent file causes an error which\u001b[39;00m\n\u001b[0;32m    659\u001b[0m     \u001b[38;5;66;03m# is not part of IOError, make it one\u001b[39;00m\n\u001b[0;32m    660\u001b[0m     \u001b[38;5;28;01mif\u001b[39;00m \u001b[38;5;28mself\u001b[39m\u001b[38;5;241m.\u001b[39m_mode \u001b[38;5;241m==\u001b[39m \u001b[38;5;124m\"\u001b[39m\u001b[38;5;124mr\u001b[39m\u001b[38;5;124m\"\u001b[39m \u001b[38;5;129;01mand\u001b[39;00m \u001b[38;5;124m\"\u001b[39m\u001b[38;5;124mUnable to open/create file\u001b[39m\u001b[38;5;124m\"\u001b[39m \u001b[38;5;129;01min\u001b[39;00m \u001b[38;5;28mstr\u001b[39m(e):\n",
      "File \u001b[1;32m~\\.conda\\envs\\case-study\\lib\\site-packages\\pandas\\io\\pytables.py:627\u001b[0m, in \u001b[0;36mHDFStore.open\u001b[1;34m(self, mode, **kwargs)\u001b[0m\n\u001b[0;32m    622\u001b[0m     \u001b[38;5;28mself\u001b[39m\u001b[38;5;241m.\u001b[39m_filters \u001b[38;5;241m=\u001b[39m _tables()\u001b[38;5;241m.\u001b[39mFilters(\n\u001b[0;32m    623\u001b[0m         \u001b[38;5;28mself\u001b[39m\u001b[38;5;241m.\u001b[39m_complevel, \u001b[38;5;28mself\u001b[39m\u001b[38;5;241m.\u001b[39m_complib, fletcher32\u001b[38;5;241m=\u001b[39m\u001b[38;5;28mself\u001b[39m\u001b[38;5;241m.\u001b[39m_fletcher32\n\u001b[0;32m    624\u001b[0m     )\n\u001b[0;32m    626\u001b[0m \u001b[38;5;28;01mtry\u001b[39;00m:\n\u001b[1;32m--> 627\u001b[0m     \u001b[38;5;28mself\u001b[39m\u001b[38;5;241m.\u001b[39m_handle \u001b[38;5;241m=\u001b[39m \u001b[43mtables\u001b[49m\u001b[38;5;241;43m.\u001b[39;49m\u001b[43mopen_file\u001b[49m\u001b[43m(\u001b[49m\u001b[38;5;28;43mself\u001b[39;49m\u001b[38;5;241;43m.\u001b[39;49m\u001b[43m_path\u001b[49m\u001b[43m,\u001b[49m\u001b[43m \u001b[49m\u001b[38;5;28;43mself\u001b[39;49m\u001b[38;5;241;43m.\u001b[39;49m\u001b[43m_mode\u001b[49m\u001b[43m,\u001b[49m\u001b[43m \u001b[49m\u001b[38;5;241;43m*\u001b[39;49m\u001b[38;5;241;43m*\u001b[39;49m\u001b[43mkwargs\u001b[49m\u001b[43m)\u001b[49m\n\u001b[0;32m    628\u001b[0m \u001b[38;5;28;01mexcept\u001b[39;00m (\u001b[38;5;167;01mIOError\u001b[39;00m) \u001b[38;5;28;01mas\u001b[39;00m e:  \u001b[38;5;66;03m# pragma: no cover\u001b[39;00m\n\u001b[0;32m    629\u001b[0m     \u001b[38;5;28;01mif\u001b[39;00m \u001b[38;5;124m\"\u001b[39m\u001b[38;5;124mcan not be written\u001b[39m\u001b[38;5;124m\"\u001b[39m \u001b[38;5;129;01min\u001b[39;00m \u001b[38;5;28mstr\u001b[39m(e):\n",
      "File \u001b[1;32m~\\.conda\\envs\\case-study\\lib\\site-packages\\tables\\file.py:289\u001b[0m, in \u001b[0;36mopen_file\u001b[1;34m(filename, mode, title, root_uep, filters, **kwargs)\u001b[0m\n\u001b[0;32m    287\u001b[0m \u001b[38;5;66;03m# 'a' and 'r+' are compatible with everything except 'r'\u001b[39;00m\n\u001b[0;32m    288\u001b[0m \u001b[38;5;28;01melif\u001b[39;00m mode \u001b[38;5;129;01min\u001b[39;00m (\u001b[38;5;124m'\u001b[39m\u001b[38;5;124ma\u001b[39m\u001b[38;5;124m'\u001b[39m, \u001b[38;5;124m'\u001b[39m\u001b[38;5;124mr+\u001b[39m\u001b[38;5;124m'\u001b[39m) \u001b[38;5;129;01mand\u001b[39;00m omode \u001b[38;5;241m==\u001b[39m \u001b[38;5;124m'\u001b[39m\u001b[38;5;124mr\u001b[39m\u001b[38;5;124m'\u001b[39m:\n\u001b[1;32m--> 289\u001b[0m     \u001b[38;5;28;01mraise\u001b[39;00m \u001b[38;5;167;01mValueError\u001b[39;00m(\n\u001b[0;32m    290\u001b[0m         \u001b[38;5;124m\"\u001b[39m\u001b[38;5;124mThe file \u001b[39m\u001b[38;5;124m'\u001b[39m\u001b[38;5;132;01m%s\u001b[39;00m\u001b[38;5;124m'\u001b[39m\u001b[38;5;124m is already opened, but \u001b[39m\u001b[38;5;124m\"\u001b[39m\n\u001b[0;32m    291\u001b[0m         \u001b[38;5;124m\"\u001b[39m\u001b[38;5;124min read-only mode.  Please close it before \u001b[39m\u001b[38;5;124m\"\u001b[39m\n\u001b[0;32m    292\u001b[0m         \u001b[38;5;124m\"\u001b[39m\u001b[38;5;124mreopening in append mode.\u001b[39m\u001b[38;5;124m\"\u001b[39m \u001b[38;5;241m%\u001b[39m filename)\n\u001b[0;32m    293\u001b[0m \u001b[38;5;66;03m# 'w' means that we want to destroy existing contents\u001b[39;00m\n\u001b[0;32m    294\u001b[0m \u001b[38;5;28;01melif\u001b[39;00m mode \u001b[38;5;241m==\u001b[39m \u001b[38;5;124m'\u001b[39m\u001b[38;5;124mw\u001b[39m\u001b[38;5;124m'\u001b[39m:\n",
      "\u001b[1;31mValueError\u001b[0m: The file 'redd.h5' is already opened, but in read-only mode.  Please close it before reopening in append mode."
     ]
    }
   ],
   "source": [
    "f.close()\n",
    "\n",
    "from pprint import pprint\n",
    "from pandas import HDFStore\n",
    "\n",
    "with HDFStore('redd.h5') as data_store:\n",
    "    pprint(data_store.keys())"
   ]
  },
  {
   "cell_type": "code",
   "execution_count": null,
   "id": "4fc9825e",
   "metadata": {},
   "outputs": [],
   "source": []
  }
 ],
 "metadata": {
  "kernelspec": {
   "display_name": "Python 3 (ipykernel)",
   "language": "python",
   "name": "python3"
  },
  "language_info": {
   "codemirror_mode": {
    "name": "ipython",
    "version": 3
   },
   "file_extension": ".py",
   "mimetype": "text/x-python",
   "name": "python",
   "nbconvert_exporter": "python",
   "pygments_lexer": "ipython3",
   "version": "3.8.16"
  }
 },
 "nbformat": 4,
 "nbformat_minor": 5
}
