{
 "cells": [
  {
   "cell_type": "markdown",
   "metadata": {},
   "source": []
  },
  {
   "attachments": {},
   "cell_type": "markdown",
   "metadata": {},
   "source": [
    "## Analyse Appliences on SmartMeters in Buildings \n",
    "### UKDALE2 Dataset"
   ]
  },
  {
   "cell_type": "code",
   "execution_count": 10,
   "metadata": {},
   "outputs": [
    {
     "name": "stdout",
     "output_type": "stream",
     "text": [
      "{'baby monitor', 'radio', 'toasted sandwich maker', 'laptop computer', 'solar thermal pumping station', 'light', 'external hard disk', 'dish washer', 'mobile phone charger', 'toaster', 'USB hub', 'hair dryer', 'kitchen aid', 'boiler', 'security alarm'}\n"
     ]
    }
   ],
   "source": [
    "import nilmtk\n",
    "\n",
    "start_time = '2023-08-01'\n",
    "end_time = '2023-09-06'\n",
    "sample_period = 10\n",
    "\n",
    "\n",
    "ukdale = nilmtk.DataSet(\"ukdale2.h5\")\n",
    "ukdale.set_window(start=start_time, end=end_time)\n",
    "\n",
    "\n",
    "arr = []\n",
    "for j in range(len(ukdale.buildings)):\n",
    "    arr2 = []\n",
    "    for i in range(len(ukdale.buildings[j+1].elec.appliances)):\n",
    "        arr2.append(ukdale.buildings[1].elec.appliances[i].type[\"type\"])\n",
    "    arr.append(arr2)\n",
    "\n",
    "common_apps = set(arr[0]).intersection(arr[1], arr[4]) # Übereinstimmungen aus Building 1, 2 und 5\n",
    "print(common_apps)"
   ]
  },
  {
   "cell_type": "code",
   "execution_count": 11,
   "metadata": {},
   "outputs": [
    {
     "name": "stdout",
     "output_type": "stream",
     "text": [
      "{'radio', 'oven', 'solar thermal pumping station', 'desktop computer', 'mobile phone charger', 'baby monitor', 'clothes iron', 'light', 'breadmaker', 'vacuum cleaner', 'dish washer', 'microwave', 'tablet computer charger', 'computer monitor', 'television', 'coffee maker', 'soldering iron', 'fan', 'audio amplifier', 'audio system', 'hair dryer', 'HTPC', 'printer', 'charger', 'hair straighteners', 'active subwoofer', 'fridge freezer', 'boiler'}\n",
      "{'computer monitor', 'rice cooker', 'computer', 'active speaker', 'broadband router', 'laptop computer', 'fridge', 'games console', 'modem', 'external hard disk', 'dish washer', 'cooker', 'toaster', 'running machine', 'microwave', 'kettle', 'washing machine'}\n",
      "{'electric space heater', 'kettle', 'projector', 'laptop computer'}\n"
     ]
    }
   ],
   "source": [
    "buildings = [1,2,5]\n",
    "# len(ukdale.buildings[1].elec.meters)\n",
    "metersPerBuilding = [53,19,5,6,25]\n",
    "single_apps = [[],[],[]]\n",
    "\n",
    "for i in range(3):\n",
    "    for j in ukdale.buildings[i+1].elec.meters:\n",
    "        if len(j.appliances) == 1:\n",
    "            single_apps[i].append(j.appliances[0].type['type'])\n",
    "print(set(single_apps[0])) # single apps aus Building 1\n",
    "print(set(single_apps[1])) # single apps aus Building 2\n",
    "print(set(single_apps[2])) # single apps aus Building 5"
   ]
  },
  {
   "cell_type": "code",
   "execution_count": 12,
   "metadata": {},
   "outputs": [
    {
     "data": {
      "text/plain": [
       "{'computer monitor', 'dish washer', 'microwave'}"
      ]
     },
     "execution_count": 12,
     "metadata": {},
     "output_type": "execute_result"
    }
   ],
   "source": [
    "# common_single_apps = set(single_apps[0]).intersection(single_apps[1],single_apps[2]) # keine Übereinstimmungen\n",
    "common_single_apps = set(single_apps[0]).intersection(single_apps[1]) # Übereinstimmungen von single apps aus Building 1 und 2\n",
    "common_single_apps"
   ]
  },
  {
   "cell_type": "code",
   "execution_count": 13,
   "metadata": {},
   "outputs": [
    {
     "data": {
      "text/plain": [
       "{'dish washer'}"
      ]
     },
     "execution_count": 13,
     "metadata": {},
     "output_type": "execute_result"
    }
   ],
   "source": [
    "apps = common_single_apps.intersection(common_apps) # Übereinstimmungen von common und single apps aus Building 1 und 2 \n",
    "apps"
   ]
  },
  {
   "attachments": {},
   "cell_type": "markdown",
   "metadata": {},
   "source": [
    "### Training Config"
   ]
  },
  {
   "cell_type": "code",
   "execution_count": 14,
   "metadata": {},
   "outputs": [],
   "source": [
    "from nilmtk.api import API\n",
    "from nilmtk.disaggregate import Mean\n",
    "from nilmtk_contrib.disaggregate import DAE,Seq2Point, Seq2Seq, RNN\n",
    "\n",
    "epochs = 1\n",
    "batch_size = 32\n",
    "\n",
    "config = {\n",
    "    'power': {\n",
    "        'mains': ['apparent','active'],\n",
    "        'appliance': ['apparent','active']\n",
    "    },\n",
    "    'sample_rate': 10,\n",
    "\n",
    "    'appliances': ['microwave', 'dish washer', 'washer dryer', 'coffee maker','computer monitor','laptop computer','audio system','light'],\n",
    "    'methods': {\n",
    "        'RNN':RNN({'n_epochs':epochs,'batch_size':batch_size}),\n",
    "        'DAE':DAE({'n_epochs':epochs,'batch_size':batch_size}),\n",
    "        'Seq2Point':Seq2Point({'n_epochs':epochs,'batch_size':batch_size}),\n",
    "        'Seq2Seq':Seq2Seq({'n_epochs':epochs,'batch_size':batch_size}),\n",
    "        'Mean': Mean({}),\n",
    "    },\n",
    "    'train': {\n",
    "        'datasets': {\n",
    "            'Dataport': {\n",
    "                'path': 'ukdale2.h5',\n",
    "                'buildings': {\n",
    "                    1: {\n",
    "                        'start_time': '2015-04-04',\n",
    "                        'end_time': '2015-04-05'\n",
    "                    },\n",
    "                    2: {\n",
    "                        'start_time': '2015-01-28',\n",
    "                        'end_time': '2015-01-30'\n",
    "                        },\n",
    "                }\n",
    "            }\n",
    "        }\n",
    "    },\n",
    "    'test': {\n",
    "        'datasets': {\n",
    "            'Datport': {\n",
    "                'path': 'ukdale2.h5',\n",
    "                'buildings': {\n",
    "                    1: {\n",
    "                        'start_time': '2015-04-05',\n",
    "                        'end_time': '2015-04-06'\n",
    "                    },\n",
    "                    2: {\n",
    "                        'start_time': '2015-04-05',\n",
    "                        'end_time': '2015-04-06'\n",
    "                    },\n",
    "                }\n",
    "            }\n",
    "        },\n",
    "        'metrics':['mae', 'rmse']\n",
    "    }\n",
    "}"
   ]
  },
  {
   "cell_type": "code",
   "execution_count": 54,
   "metadata": {},
   "outputs": [
    {
     "ename": "AttributeError",
     "evalue": "'collections.OrderedDict' object has no attribute 'elec'",
     "output_type": "error",
     "traceback": [
      "\u001b[1;31m---------------------------------------------------------------------------\u001b[0m",
      "\u001b[1;31mAttributeError\u001b[0m                            Traceback (most recent call last)",
      "Cell \u001b[1;32mIn[54], line 1\u001b[0m\n\u001b[1;32m----> 1\u001b[0m df \u001b[39m=\u001b[39m \u001b[39mnext\u001b[39m(ukdale\u001b[39m.\u001b[39;49mbuildings\u001b[39m.\u001b[39;49melec[\u001b[39m'\u001b[39m\u001b[39mmicrowave\u001b[39m\u001b[39m'\u001b[39m]\u001b[39m.\u001b[39mload())\n",
      "\u001b[1;31mAttributeError\u001b[0m: 'collections.OrderedDict' object has no attribute 'elec'"
     ]
    }
   ],
   "source": [
    "df = next(ukdale.buildings.elec['microwave'].load())"
   ]
  },
  {
   "cell_type": "code",
   "execution_count": 58,
   "metadata": {},
   "outputs": [
    {
     "name": "stdout",
     "output_type": "stream",
     "text": [
      "microwave not in building 3\n",
      "dish washer not in building 3\n",
      "dish washer not in building 4\n",
      "washer dryer not in building 3\n",
      "radio not in building 2\n",
      "radio not in building 3\n",
      "radio not in building 5\n",
      "computer monitor not in building 3\n",
      "computer monitor not in building 4\n",
      "laptop computer not in building 4\n",
      "laptop computer not in building 5\n",
      "security alarm not in building 2\n",
      "security alarm not in building 3\n",
      "security alarm not in building 4\n",
      "security alarm not in building 5\n",
      "hair dryer not in building 2\n",
      "hair dryer not in building 3\n",
      "hair dryer not in building 4\n"
     ]
    }
   ],
   "source": [
    "\n",
    "ukdale = nilmtk.DataSet(\"ukdale2.h5\")\n",
    "\n",
    "# {'baby monitor', 'radio', 'toasted sandwich maker', 'laptop computer', 'solar thermal pumping station', 'light', 'external hard disk', 'dish washer', 'mobile phone charger', 'toaster', 'USB hub', 'hair dryer', 'kitchen aid', 'boiler', 'security alarm'}\n",
    "\n",
    "apps = ['microwave', 'dish washer', 'washer dryer', 'radio','computer monitor','laptop computer','security alarm','hair dryer']\n",
    "timerange = []\n",
    "temp = []\n",
    "\n",
    "for i in apps:\n",
    "    temp = [i]\n",
    "    for j in range(5):\n",
    "        try:\n",
    "            df = next(ukdale.buildings[j+1].elec[i].load())\n",
    "            temp.append((f'building {j+1}',df.index.min(),df.index.max()))\n",
    "            timerange.append(temp)\n",
    "        except:\n",
    "            print(f'{i} not in building {j+1}')\n",
    "\n",
    "\n"
   ]
  },
  {
   "cell_type": "code",
   "execution_count": 61,
   "metadata": {},
   "outputs": [
    {
     "data": {
      "text/plain": [
       "['microwave',\n",
       " ('building 1',\n",
       "  Timestamp('2012-12-14 22:21:33+0000', tz='Europe/London'),\n",
       "  Timestamp('2017-04-26 18:33:03+0100', tz='Europe/London')),\n",
       " ('building 2',\n",
       "  Timestamp('2013-05-20 22:28:39+0100', tz='Europe/London'),\n",
       "  Timestamp('2013-10-10 06:15:26+0100', tz='Europe/London')),\n",
       " ('building 4',\n",
       "  Timestamp('2013-03-09 14:40:13+0000', tz='Europe/London'),\n",
       "  Timestamp('2013-10-01 06:15:14+0100', tz='Europe/London')),\n",
       " ('building 5',\n",
       "  Timestamp('2014-06-29 17:23:56+0100', tz='Europe/London'),\n",
       "  Timestamp('2014-11-13 17:55:14+0000', tz='Europe/London'))]"
      ]
     },
     "execution_count": 61,
     "metadata": {},
     "output_type": "execute_result"
    }
   ],
   "source": [
    "timerange[1]"
   ]
  }
 ],
 "metadata": {
  "kernelspec": {
   "display_name": "case_study",
   "language": "python",
   "name": "python3"
  },
  "language_info": {
   "codemirror_mode": {
    "name": "ipython",
    "version": 3
   },
   "file_extension": ".py",
   "mimetype": "text/x-python",
   "name": "python",
   "nbconvert_exporter": "python",
   "pygments_lexer": "ipython3",
   "version": "3.8.16"
  },
  "orig_nbformat": 4
 },
 "nbformat": 4,
 "nbformat_minor": 2
}
