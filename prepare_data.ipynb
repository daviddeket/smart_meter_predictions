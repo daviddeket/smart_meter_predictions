{
 "cells": [
  {
   "cell_type": "markdown",
   "metadata": {},
   "source": []
  },
  {
   "attachments": {},
   "cell_type": "markdown",
   "metadata": {},
   "source": [
    "## Analyse Appliences on SmartMeters in Buildings \n",
    "### UKDALE2 Dataset"
   ]
  },
  {
   "cell_type": "code",
   "execution_count": 4,
   "metadata": {},
   "outputs": [
    {
     "name": "stdout",
     "output_type": "stream",
     "text": [
      "{'hair straighteners', 'toaster', 'light', 'wireless phone charger', 'audio system', 'mobile phone charger', 'broadband router', 'fan', 'radio', 'food processor', 'drill', 'computer monitor', 'USB hub'}\n"
     ]
    }
   ],
   "source": [
    "import nilmtk\n",
    "\n",
    "start_time = '2015-01-01'\n",
    "end_time = '2015-04-01'\n",
    "sample_period = 10\n",
    "\n",
    "\n",
    "ukdale = nilmtk.DataSet(\"ukdale2.h5\")\n",
    "ukdale.set_window(start=start_time, end=end_time)\n",
    "\n",
    "\n",
    "arr = []\n",
    "for j in range(len(ukdale.buildings)):\n",
    "    arr2 = []\n",
    "    for i in range(len(ukdale.buildings[j+1].elec.appliances)):\n",
    "        arr2.append(ukdale.buildings[1].elec.appliances[i].type[\"type\"])\n",
    "    arr.append(arr2)\n",
    "\n",
    "common_apps = set(arr[0]).intersection(arr[1], arr[4]) # Übereinstimmungen aus Building 1, 2 und 5\n",
    "print(common_apps)"
   ]
  },
  {
   "cell_type": "code",
   "execution_count": 135,
   "metadata": {},
   "outputs": [
    {
     "name": "stdout",
     "output_type": "stream",
     "text": [
      "{'audio amplifier', 'clothes iron', 'light', 'coffee maker', 'oven', 'charger', 'boiler', 'fan', 'breadmaker', 'dish washer', 'baby monitor', 'computer monitor', 'hair straighteners', 'printer', 'audio system', 'active subwoofer', 'hair dryer', 'radio', 'fridge freezer', 'soldering iron', 'microwave', 'HTPC', 'desktop computer', 'tablet computer charger', 'mobile phone charger', 'vacuum cleaner', 'solar thermal pumping station', 'television'}\n",
      "{'computer', 'fridge', 'cooker', 'toaster', 'laptop computer', 'active speaker', 'kettle', 'broadband router', 'modem', 'running machine', 'dish washer', 'external hard disk', 'games console', 'computer monitor', 'washing machine', 'microwave', 'rice cooker'}\n",
      "{'electric space heater', 'laptop computer', 'projector', 'kettle'}\n"
     ]
    }
   ],
   "source": [
    "buildings = [1,2,5]\n",
    "# len(ukdale.buildings[1].elec.meters)\n",
    "metersPerBuilding = [53,19,5,6,25]\n",
    "single_apps = [[],[],[]]\n",
    "\n",
    "for i in range(3):\n",
    "    for j in ukdale.buildings[i+1].elec.meters:\n",
    "        if len(j.appliances) == 1:\n",
    "            single_apps[i].append(j.appliances[0].type['type'])\n",
    "print(set(single_apps[0])) # single apps aus Building 1\n",
    "print(set(single_apps[1])) # single apps aus Building 2\n",
    "print(set(single_apps[2])) # single apps aus Building 5"
   ]
  },
  {
   "cell_type": "code",
   "execution_count": 130,
   "metadata": {},
   "outputs": [
    {
     "data": {
      "text/plain": [
       "{'computer monitor', 'dish washer', 'microwave'}"
      ]
     },
     "execution_count": 130,
     "metadata": {},
     "output_type": "execute_result"
    }
   ],
   "source": [
    "# common_single_apps = set(single_apps[0]).intersection(single_apps[1],single_apps[2]) # keine Übereinstimmungen\n",
    "common_single_apps = set(single_apps[0]).intersection(single_apps[1]) # Übereinstimmungen von single apps aus Building 1 und 2\n",
    "common_single_apps"
   ]
  },
  {
   "cell_type": "code",
   "execution_count": 140,
   "metadata": {},
   "outputs": [
    {
     "data": {
      "text/plain": [
       "{'computer monitor'}"
      ]
     },
     "execution_count": 140,
     "metadata": {},
     "output_type": "execute_result"
    }
   ],
   "source": [
    "apps = common_single_apps.intersection(common_apps) # Übereinstimmungen von common und single apps aus Building 1 und 2 \n",
    "apps"
   ]
  },
  {
   "attachments": {},
   "cell_type": "markdown",
   "metadata": {},
   "source": [
    "### Training Config"
   ]
  },
  {
   "cell_type": "code",
   "execution_count": 144,
   "metadata": {},
   "outputs": [],
   "source": [
    "from nilmtk.api import API\n",
    "from nilmtk.disaggregate import Mean\n",
    "from nilmtk_contrib.disaggregate import DAE,Seq2Point, Seq2Seq, RNN\n",
    "\n",
    "epochs = 30\n",
    "batch_size = 32\n",
    "\n",
    "config = {\n",
    "    'power': {\n",
    "        'mains': ['apparent','active'],\n",
    "        'appliance': ['apparent','active']\n",
    "    },\n",
    "    'sample_rate': 10,\n",
    "\n",
    "    'appliances': ['microwave', 'dish washer', 'washer dryer', 'coffee maker','computer monitor','laptop computer','audio system','light'],\n",
    "    'methods': {\n",
    "        'RNN':RNN({'n_epochs':epochs,'batch_size':batch_size}),\n",
    "        'DAE':DAE({'n_epochs':epochs,'batch_size':batch_size}),\n",
    "        'Seq2Point':Seq2Point({'n_epochs':epochs,'batch_size':batch_size}),\n",
    "        'Seq2Seq':Seq2Seq({'n_epochs':epochs,'batch_size':batch_size}),\n",
    "        'Mean': Mean({}),\n",
    "    },\n",
    "    'train': {\n",
    "        'datasets': {\n",
    "            'Dataport': {\n",
    "                'path': 'ukdale2.h5',\n",
    "                'buildings': {\n",
    "                    1: {\n",
    "                        'start_time': '2015-04-04',\n",
    "                        'end_time': '2015-04-05'\n",
    "                    },\n",
    "                    2: {\n",
    "                        'start_time': '2015-01-28',\n",
    "                        'end_time': '2015-01-30'\n",
    "                        },\n",
    "                }\n",
    "            }\n",
    "        }\n",
    "    },\n",
    "    'test': {\n",
    "        'datasets': {\n",
    "            'Datport': {\n",
    "                'path': 'ukdale2.h5',\n",
    "                'buildings': {\n",
    "                    1: {\n",
    "                        'start_time': '2015-04-05',\n",
    "                        'end_time': '2015-04-06'\n",
    "                    },\n",
    "                    2: {\n",
    "                        'start_time': '2015-04-05',\n",
    "                        'end_time': '2015-04-06'\n",
    "                    },\n",
    "                }\n",
    "            }\n",
    "        },\n",
    "        'metrics':['mae', 'rmse']\n",
    "    }\n",
    "}"
   ]
  },
  {
   "attachments": {},
   "cell_type": "markdown",
   "metadata": {},
   "source": [
    "Start Training"
   ]
  },
  {
   "cell_type": "code",
   "execution_count": null,
   "metadata": {},
   "outputs": [],
   "source": [
    "api_res = API(config)"
   ]
  }
 ],
 "metadata": {
  "kernelspec": {
   "display_name": "case_study",
   "language": "python",
   "name": "python3"
  },
  "language_info": {
   "codemirror_mode": {
    "name": "ipython",
    "version": 3
   },
   "file_extension": ".py",
   "mimetype": "text/x-python",
   "name": "python",
   "nbconvert_exporter": "python",
   "pygments_lexer": "ipython3",
   "version": "3.8.16"
  },
  "orig_nbformat": 4
 },
 "nbformat": 4,
 "nbformat_minor": 2
}
